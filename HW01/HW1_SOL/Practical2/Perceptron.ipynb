{
 "cells": [
  {
   "cell_type": "markdown",
   "metadata": {
    "id": "y09iFsmx2Vcw"
   },
   "source": [
    "<img src='./pic/sharif-main-logo.png' alt=\"SUT logo\" width=300 height=300 align=left class=\"saturate\" > <br>\n",
    "\n",
    "<div dir=ltr align=center>\n",
    "<font color=0F5298 size=7>\n",
    "    یادگیری ماشین <br>\n",
    "<font color=2565AE size=5>\n",
    "    دانشکده مهندسی کامپیوتر <br>\n",
    "    پاییز ۱۴۰۳ <br>\n",
    "<font color=3C99D size=5>\n",
    "   تمرین عملی اول - یادگیری نظارت شده <br>\n",
    "<font color=696880 size=4>\n",
    "    عرفان سلیما - سارینا حشمتی - نیکان واسعی - فاطمه شیری"
   ]
  },
  {
   "cell_type": "markdown",
   "metadata": {
    "id": "y09iFsmx2Vcw"
   },
   "source": [
    "<div dir=rtl>\n",
    "<font size=6>\n",
    "اطلاعات دانشجو"
   ]
  },
  {
   "cell_type": "code",
   "execution_count": 31,
   "metadata": {},
   "outputs": [],
   "source": [
    "student_number = '95211042'\n",
    "Name = 'Pooria'\n",
    "Last_Name = 'Azarakhsh' "
   ]
  },
  {
   "cell_type": "markdown",
   "metadata": {
    "id": "y09iFsmx2Vcw"
   },
   "source": [
    "<div dir=rtl>\n",
    "<font size=6>\n",
    "نحوه پیاده سازی"
   ]
  },
  {
   "cell_type": "markdown",
   "metadata": {
    "id": "lCUAtWN522T4"
   },
   "source": [
    "<div dir=rtl>\n",
    "<font size=4>\n",
    " با استفاده از تابع make_blobs از کتابخانه sklearn به کمک قطعه کد\n",
    "زیر، مجموعه داده ای بسازید که به صورت خطی\n",
    "جدایی پذیر باشد. هر ستون از ماتریس X شامل ویژگی های یک نمونه داده است."
   ]
  },
  {
   "cell_type": "code",
   "execution_count": 32,
   "metadata": {
    "id": "sbBYk18H2TVg"
   },
   "outputs": [],
   "source": [
    "from sklearn.datasets import make_blobs\n",
    "X, Y = make_blobs(n_samples=100, n_features=10, centers=2, random_state=41)"
   ]
  },
  {
   "cell_type": "markdown",
   "metadata": {
    "id": "SFi-rRwJ3E3-"
   },
   "source": [
    "<div dir=rtl>\n",
    "<font size=4>\n",
    " ابتدا کلاسی به نام F در نظر بگیرید و یکی از متد های آن را به نام sign پیاده سازی کنید. متدهای این کلاس متعلق به کلاس\n",
    "هستند و باید به صورت static تعریف شوند. در حقیقت این کلاس مسئول نگهداری توابع کاربردی برای انجام محاسبات\n",
    "است که در اینجا ما فقط میخواهیم sign را تعریف کنیم."
   ]
  },
  {
   "cell_type": "code",
   "execution_count": 33,
   "metadata": {
    "id": "ta3SQGNJ3OeO"
   },
   "outputs": [],
   "source": [
    "class F:\n",
    "  @staticmethod\n",
    "  def sign(x):\n",
    "    # Implement the sign activation function\n",
    "    if x >= 0:\n",
    "      return 1\n",
    "    else:\n",
    "      return 0"
   ]
  },
  {
   "cell_type": "markdown",
   "metadata": {
    "id": "prCJVzUh3Wd5"
   },
   "source": [
    "<div dir=rtl>\n",
    "<font size=4>\n",
    " کلاس Perceptron را مانند تکه کد زیر در نظر بگیرید. این موجودیت تنها وظیفه نگهداری وزن های پرسپترون ما و محاسبه\n",
    "y براساس ورودی ما یعنی X را دارد. برای مقدار دهی اولیه وزن ها و بایاس میتوانید از کتابخانه numpy استفاده کنید."
   ]
  },
  {
   "cell_type": "code",
   "execution_count": 34,
   "metadata": {
    "id": "FRApiOaV3khr"
   },
   "outputs": [],
   "source": [
    "import numpy as np\n",
    "\n",
    "class Perceptron:\n",
    "  def __init__(self, input_size):\n",
    "    # Initialize the weights and biases of the new model\n",
    "    self.weights = np.random.randn(input_size)\n",
    "    self.bias = np.random.randn()\n",
    "\n",
    "\n",
    "  def forward(self, input):\n",
    "    # Feed input features to your model and return output\n",
    "    z = np.matmul(self.weights, input) + self.bias\n",
    "    y = F.sign(z)\n",
    "    return y\n",
    "  "
   ]
  },
  {
   "cell_type": "markdown",
   "metadata": {
    "id": "WF8lQoZA3pgt"
   },
   "source": [
    "<div dir=rtl>\n",
    "<font size=4>\n",
    "حال کلاس Optimizer را مطابق قطعه کد زیر پیاده سازی کنید. این کلاس وظیفه این را دارد که مدل ما را بهینه کند. بدین\n",
    "معنی که در هر مرحله از یادگیری سعی کند وزن ها را در جهتی بروزرسانی کند که در نهایت ما هیچ خطایی نداشته باشیم (با\n",
    "فرض خطی جدایی پذیر بودن داده ها)"
   ]
  },
  {
   "cell_type": "code",
   "execution_count": 35,
   "metadata": {
    "id": "ksQEHkz54HeO"
   },
   "outputs": [],
   "source": [
    "class Optimizer:\n",
    "  def __init__(self, model):\n",
    "    self.model = model\n",
    "  def update(self, x, y, y_hat):\n",
    "    # Update weight and bias of the model\n",
    "    self.model.weights += (y - y_hat) * x\n",
    "    self.model.bias += (y - y_hat)\n",
    "    pass"
   ]
  },
  {
   "cell_type": "markdown",
   "metadata": {
    "id": "lHKc8Rpc4KT2"
   },
   "source": [
    "<div dir=rtl>\n",
    "<font size=4>\n",
    "با توجه به تعداد ویژگی های داده های موجود، یک شی Perceptron بسازید (این پارامتر باید با تعداد ویژگی های قسمت\n",
    "اول یکسان باشد) در مرحله بعدی به Optimizer اجازه دهید تا به مدل شما دسترسی داشته باشد تا بتواند آن را بهینه کند."
   ]
  },
  {
   "cell_type": "code",
   "execution_count": 38,
   "metadata": {},
   "outputs": [],
   "source": [
    "input_size = 10\n",
    "perceptron = Perceptron(input_size)\n",
    "optimizer = Optimizer(perceptron)"
   ]
  },
  {
   "cell_type": "markdown",
   "metadata": {
    "id": "FAwckbDH4TIa"
   },
   "source": [
    "<div dir=rtl>\n",
    "<font size=4>\n",
    "در این قسمت شما باید با پیاده سازی فرآیندی مناسب با استفاده از instance های Optimizer و Perceptron وضعیت\n",
    "مدل را بهبود بدهید تا به ابر صفحه جدا کننده نزدیک تر شود."
   ]
  },
  {
   "cell_type": "code",
   "execution_count": 39,
   "metadata": {
    "id": "vlvPXwMm4QTI"
   },
   "outputs": [
    {
     "data": {
      "text/plain": [
       "array([1., 1., 1., 0., 1., 0., 1., 0., 0., 0., 1., 0., 0., 0., 0., 1., 0.,\n",
       "       1., 1., 1., 1., 0., 0., 1., 0., 0., 1., 0., 1., 0., 0., 0., 1., 1.,\n",
       "       0., 0., 0., 1., 1., 1., 1., 0., 0., 1., 1., 1., 1., 0., 1., 0., 0.,\n",
       "       0., 0., 0., 0., 1., 1., 0., 1., 1., 0., 1., 1., 0., 1., 1., 0., 0.,\n",
       "       0., 1., 1., 1., 0., 0., 0., 0., 0., 1., 1., 1., 0., 1., 1., 0., 1.,\n",
       "       0., 1., 1., 0., 0., 0., 1., 0., 1., 1., 1., 1., 0., 1., 0.])"
      ]
     },
     "execution_count": 39,
     "metadata": {},
     "output_type": "execute_result"
    }
   ],
   "source": [
    "n_iter = 1000\n",
    "Y_hat = np.zeros(100)\n",
    "\n",
    "for _ in range(n_iter):\n",
    "  n = 0\n",
    "  for x, y in zip(X, Y):\n",
    "    # Complete Code\n",
    "    y_hat = perceptron.forward(x)\n",
    "    Y_hat[n] = y_hat\n",
    "    n += 1\n",
    "    optimizer.update(x, y, y_hat)\n",
    "\n",
    "Y_hat"
   ]
  },
  {
   "cell_type": "markdown",
   "metadata": {
    "id": "bg5D9ooD4c-_"
   },
   "source": [
    "<div dir=rtl>\n",
    "<font size=4>\n",
    "به ازای n_features برابر ۲ نقاط مجموعه داده ی خود و خط حاصل از Perceptron خود را به کمک کتابخانه Ⅿatpⅼotⅼib\n",
    "در فضای ۲ بعدی نمایش دهید."
   ]
  },
  {
   "cell_type": "code",
   "execution_count": 57,
   "metadata": {},
   "outputs": [
    {
     "data": {
      "text/plain": [
       "array([1, 1, 0, 1, 1, 0, 0, 0, 0, 1, 1, 1, 0, 0, 1, 0, 1, 1, 1, 0, 1, 0,\n",
       "       0, 1, 0, 0, 0, 1, 0, 0, 0, 1, 0, 1, 1, 1, 1, 1, 1, 0, 0, 0, 1, 1,\n",
       "       1, 1, 0, 1, 0, 0, 1, 1, 0, 0, 0, 1, 0, 0, 1, 0, 0, 0, 0, 0, 0, 0,\n",
       "       0, 1, 1, 0, 1, 0, 1, 1, 1, 1, 0, 0, 0, 1, 0, 0, 1, 1, 1, 0, 1, 1,\n",
       "       0, 1, 1, 0, 0, 0, 1, 1, 1, 1, 0, 1])"
      ]
     },
     "execution_count": 57,
     "metadata": {},
     "output_type": "execute_result"
    }
   ],
   "source": [
    "X, Y = make_blobs(n_samples=100, n_features=2, centers=2, random_state=41)\n",
    "Y"
   ]
  },
  {
   "cell_type": "code",
   "execution_count": 58,
   "metadata": {},
   "outputs": [
    {
     "data": {
      "text/plain": [
       "array([1., 1., 0., 1., 1., 0., 0., 0., 0., 1., 1., 1., 0., 0., 1., 0., 1.,\n",
       "       1., 1., 0., 1., 0., 0., 1., 0., 0., 0., 1., 0., 0., 0., 1., 0., 1.,\n",
       "       1., 1., 1., 1., 1., 0., 0., 0., 1., 1., 1., 1., 0., 1., 0., 0., 1.,\n",
       "       1., 0., 0., 0., 1., 0., 0., 1., 0., 0., 0., 0., 0., 0., 0., 0., 1.,\n",
       "       1., 0., 1., 0., 1., 1., 1., 1., 0., 0., 0., 1., 0., 0., 1., 1., 1.,\n",
       "       0., 1., 1., 0., 1., 1., 0., 0., 0., 1., 1., 1., 1., 0., 1.])"
      ]
     },
     "execution_count": 58,
     "metadata": {},
     "output_type": "execute_result"
    }
   ],
   "source": [
    "input_size = 2\n",
    "perceptron = Perceptron(input_size)\n",
    "optimizer = Optimizer(perceptron)\n",
    "\n",
    "n_iter = 1000\n",
    "Y_hat = np.zeros(100)\n",
    "\n",
    "for _ in range(n_iter):\n",
    "  n = 0\n",
    "  for x, y in zip(X, Y):\n",
    "    # Complete Code\n",
    "    y_hat = perceptron.forward(x)\n",
    "    Y_hat[n] = y_hat\n",
    "    n += 1\n",
    "    optimizer.update(x, y, y_hat)\n",
    "\n",
    "Y_hat"
   ]
  },
  {
   "cell_type": "code",
   "execution_count": 59,
   "metadata": {},
   "outputs": [
    {
     "data": {
      "text/plain": [
       "(np.float64(8.300883981082936),\n",
       " np.float64(0.7626484446939745),\n",
       " np.float64(0.6381122827984806))"
      ]
     },
     "execution_count": 59,
     "metadata": {},
     "output_type": "execute_result"
    }
   ],
   "source": [
    "W1, W2 = perceptron.weights\n",
    "B = perceptron.bias\n",
    "\n",
    "W1, W2, B"
   ]
  },
  {
   "cell_type": "code",
   "execution_count": 60,
   "metadata": {},
   "outputs": [
    {
     "data": {
      "image/png": "[encoded data removed]",
      "text/plain": [
       "<Figure size 640x480 with 1 Axes>"
      ]
     },
     "metadata": {},
     "output_type": "display_data"
    }
   ],
   "source": [
    "import matplotlib.pyplot as plt\n",
    "\n",
    "# Plot the data points and the separating line\n",
    "plt.scatter(X[:, 0], X[:, 1], c=Y_hat, cmap='cool')\n",
    "x_min, x_max = X[:, 0].min() - 1, X[:, 0].max() + 1\n",
    "y_min, y_max = X[:, 1].min() - 1, X[:, 1].max() + 1\n",
    "xx = np.linspace(x_min, x_max, 100)\n",
    "yy = np.linspace(y_min, y_max, 100)\n",
    "XX, YY = np.meshgrid(xx, yy)\n",
    "Z = np.zeros_like(XX)\n",
    "\n",
    "for i in range(Z.shape[0]):\n",
    "    for j in range(Z.shape[1]):\n",
    "        Z[i, j] = perceptron.forward([XX[i, j], YY[i, j]])\n",
    "\n",
    "# Add the line\n",
    "x_line = np.linspace(min(x), max(x), 5)\n",
    "y_line = (B - W1 * x_line) / W2\n",
    "plt.plot(x_line, y_line, color='black', label='Hyperplane')\n",
    "\n",
    "\n",
    "plt.xlabel('Feature 1')\n",
    "plt.ylabel('Feature 2')\n",
    "plt.title('Perceptron Classification')\n",
    "plt.show()"
   ]
  },
  {
   "cell_type": "code",
   "execution_count": null,
   "metadata": {},
   "outputs": [],
   "source": []
  }
 ],
 "metadata": {
  "colab": {
   "provenance": []
  },
  "kernelspec": {
   "display_name": "mldl_env",
   "language": "python",
   "name": "python3"
  },
  "language_info": {
   "codemirror_mode": {
    "name": "ipython",
    "version": 3
   },
   "file_extension": ".py",
   "mimetype": "text/x-python",
   "name": "python",
   "nbconvert_exporter": "python",
   "pygments_lexer": "ipython3",
   "version": "3.12.11"
  }
 },
 "nbformat": 4,
 "nbformat_minor": 1
}
